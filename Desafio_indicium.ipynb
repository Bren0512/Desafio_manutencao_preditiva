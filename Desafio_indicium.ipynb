{
  "nbformat": 4,
  "nbformat_minor": 0,
  "metadata": {
    "colab": {
      "provenance": [],
      "authorship_tag": "ABX9TyPztftwr3PxMI3BE0/oy5de",
      "include_colab_link": true
    },
    "kernelspec": {
      "name": "python3",
      "display_name": "Python 3"
    },
    "language_info": {
      "name": "python"
    }
  },
  "cells": [
    {
      "cell_type": "markdown",
      "metadata": {
        "id": "view-in-github",
        "colab_type": "text"
      },
      "source": [
        "<a href=\"https://colab.research.google.com/github/Bren0512/Desafio_manutencao_preditiva/blob/main/Desafio_indicium.ipynb\" target=\"_parent\"><img src=\"https://colab.research.google.com/assets/colab-badge.svg\" alt=\"Open In Colab\"/></a>"
      ]
    },
    {
      "cell_type": "code",
      "execution_count": 372,
      "metadata": {
        "id": "031UFO4pGrvZ"
      },
      "outputs": [],
      "source": [
        "#importando pandas\n",
        "import pandas as pd"
      ]
    },
    {
      "cell_type": "code",
      "source": [
        "#importando a base\n",
        "base = pd.read_csv(\"/content/desafio_manutencao_preditiva_treino.csv\")"
      ],
      "metadata": {
        "id": "0LWzsS8eGwjU"
      },
      "execution_count": 373,
      "outputs": []
    },
    {
      "cell_type": "code",
      "source": [
        "#verificando a base\n",
        "base.head(3)"
      ],
      "metadata": {
        "id": "M85ISUKDHOKd"
      },
      "execution_count": null,
      "outputs": []
    },
    {
      "cell_type": "code",
      "source": [
        "#informação da base\n",
        "base.info()"
      ],
      "metadata": {
        "id": "Y8A210EIIHbW"
      },
      "execution_count": null,
      "outputs": []
    },
    {
      "cell_type": "code",
      "source": [
        "#selecionar colunas tipo object\n",
        "base.dtypes[base.dtypes.values == \"object\"]"
      ],
      "metadata": {
        "id": "5OD06bHIILDT"
      },
      "execution_count": null,
      "outputs": []
    },
    {
      "cell_type": "code",
      "source": [
        "#eliminando colunas tipo object\n",
        "base = base.drop([\"product_id\", \"product_id\", \"type\"], axis=1)"
      ],
      "metadata": {
        "id": "GC0kUq71NSog"
      },
      "execution_count": 382,
      "outputs": []
    },
    {
      "cell_type": "code",
      "source": [
        "base"
      ],
      "metadata": {
        "id": "sWzDMq11-mlh"
      },
      "execution_count": null,
      "outputs": []
    },
    {
      "cell_type": "code",
      "source": [
        "x = base.drop(\"failure_type\", axis=1)\n",
        "y = base[\"failure_type\"]"
      ],
      "metadata": {
        "id": "BEWR6XJEkZgn"
      },
      "execution_count": 384,
      "outputs": []
    },
    {
      "cell_type": "markdown",
      "source": [
        "**sklearn KNN**"
      ],
      "metadata": {
        "id": "j96quW4EGeVo"
      }
    },
    {
      "cell_type": "code",
      "source": [
        "#importando o KNN\n",
        "from sklearn.neighbors import KNeighborsClassifier"
      ],
      "metadata": {
        "id": "ACjeQDGxUDub"
      },
      "execution_count": 385,
      "outputs": []
    },
    {
      "cell_type": "code",
      "source": [
        "#criando classificador\n",
        "neigh = KNeighborsClassifier(n_neighbors=3)"
      ],
      "metadata": {
        "id": "_28bZmqXWJSN"
      },
      "execution_count": 386,
      "outputs": []
    },
    {
      "cell_type": "code",
      "source": [
        "#fazendo o fit com os dados\n",
        "neigh.fit(x, y)"
      ],
      "metadata": {
        "colab": {
          "base_uri": "https://localhost:8080/"
        },
        "id": "CTuTywujWm0-",
        "outputId": "4e0912da-e8c6-49ba-b894-b88f40b38102"
      },
      "execution_count": 387,
      "outputs": [
        {
          "output_type": "execute_result",
          "data": {
            "text/plain": [
              "KNeighborsClassifier(n_neighbors=3)"
            ]
          },
          "metadata": {},
          "execution_count": 387
        }
      ]
    },
    {
      "cell_type": "code",
      "source": [
        "#avaliando modelo\n",
        "neigh.score(x, y)"
      ],
      "metadata": {
        "colab": {
          "base_uri": "https://localhost:8080/"
        },
        "id": "oSlnb24IW9X3",
        "outputId": "ccc80d1f-1b8c-461d-bd4e-21e21276af92"
      },
      "execution_count": 388,
      "outputs": [
        {
          "output_type": "execute_result",
          "data": {
            "text/plain": [
              "0.9752512374381281"
            ]
          },
          "metadata": {},
          "execution_count": 388
        }
      ]
    },
    {
      "cell_type": "markdown",
      "source": [
        "**Arvore de decisção**"
      ],
      "metadata": {
        "id": "x_F81oYiZZu4"
      }
    },
    {
      "cell_type": "code",
      "source": [
        "#importando Arvore de decisão\n",
        "from sklearn import tree"
      ],
      "metadata": {
        "id": "XnmECB5yZd15"
      },
      "execution_count": 389,
      "outputs": []
    },
    {
      "cell_type": "code",
      "source": [
        "#criando classificador\n",
        "clfarvore = tree.DecisionTreeClassifier()"
      ],
      "metadata": {
        "id": "CvpZS-WvZfdw"
      },
      "execution_count": 390,
      "outputs": []
    },
    {
      "cell_type": "code",
      "source": [
        "#fazendo o fit com os dados\n",
        "clfarvore = clfarvore.fit(x, y)"
      ],
      "metadata": {
        "id": "8PnczWCGZkvT"
      },
      "execution_count": 391,
      "outputs": []
    },
    {
      "cell_type": "code",
      "source": [
        "#avaliando modelo\n",
        "clfarvore.score(x, y)"
      ],
      "metadata": {
        "colab": {
          "base_uri": "https://localhost:8080/"
        },
        "id": "1sq2-w_KZvm3",
        "outputId": "e1a8e056-b305-4713-eb1c-0e175d776bc0"
      },
      "execution_count": 392,
      "outputs": [
        {
          "output_type": "execute_result",
          "data": {
            "text/plain": [
              "1.0"
            ]
          },
          "metadata": {},
          "execution_count": 392
        }
      ]
    },
    {
      "cell_type": "markdown",
      "source": [
        "**Avaliando modelo**"
      ],
      "metadata": {
        "id": "EYA4NRRvTM6E"
      }
    },
    {
      "cell_type": "code",
      "source": [
        "#importando base de teste\n",
        "teste = pd.read_csv(\"/content/desafio_manutencao_preditiva_teste.csv\")"
      ],
      "metadata": {
        "id": "QTODLF6QdBsL"
      },
      "execution_count": 393,
      "outputs": []
    },
    {
      "cell_type": "code",
      "source": [
        "teste"
      ],
      "metadata": {
        "id": "IicFQmtUdT5I"
      },
      "execution_count": null,
      "outputs": []
    },
    {
      "cell_type": "code",
      "source": [
        "#tratamento de dados\n",
        "teste.dtypes[teste.dtypes.values == \"object\"]"
      ],
      "metadata": {
        "id": "pa6KrF5tdaeS"
      },
      "execution_count": 201,
      "outputs": []
    },
    {
      "cell_type": "code",
      "source": [
        "#subconjuto\n",
        "x_teste = teste.drop([\"product_id\", \"type\"], axis=1)\n",
        "y_teste = teste.insert(8, \"failure_type\", 0)"
      ],
      "metadata": {
        "id": "6Pz7SJXPg9mw"
      },
      "execution_count": 395,
      "outputs": []
    },
    {
      "cell_type": "code",
      "source": [
        "pred_knn = neigh.predict(x_teste)\n",
        "teste[\"failure_type\"] = pred_knn"
      ],
      "metadata": {
        "id": "vu5nJwpPhi82"
      },
      "execution_count": 396,
      "outputs": []
    },
    {
      "cell_type": "code",
      "source": [
        "teste_knn = teste[[\"failure_type\", \"product_id\"]].reset_index()"
      ],
      "metadata": {
        "id": "gT_dfuJDFd9H"
      },
      "execution_count": 397,
      "outputs": []
    },
    {
      "cell_type": "code",
      "source": [
        "#previsão knn\n",
        "teste_knn"
      ],
      "metadata": {
        "id": "IsdgJMR4FmdJ"
      },
      "execution_count": null,
      "outputs": []
    },
    {
      "cell_type": "code",
      "source": [
        "pred_arvore = clfarvore.predict(x_teste)\n",
        "teste[\"failure_type\"] = pred_arvore"
      ],
      "metadata": {
        "id": "kq9JZfoIk8d_"
      },
      "execution_count": 355,
      "outputs": []
    },
    {
      "cell_type": "code",
      "source": [
        "teste_arvore = teste[[\"failure_type\", \"product_id\"]].reset_index()"
      ],
      "metadata": {
        "id": "1Nzhe8A_EPYq"
      },
      "execution_count": 366,
      "outputs": []
    },
    {
      "cell_type": "code",
      "source": [
        "#previsão arvore de decisão\n",
        "df_teste = teste_arvore.drop(\"index\", axis=1)\n",
        "df_teste.columns = [\"rowNumber\", \"predictedValues\"]"
      ],
      "metadata": {
        "id": "Q9f0P2T9EyBF"
      },
      "execution_count": 401,
      "outputs": []
    },
    {
      "cell_type": "code",
      "source": [
        "df_teste"
      ],
      "metadata": {
        "id": "rKhLCWtRHKn2"
      },
      "execution_count": null,
      "outputs": []
    },
    {
      "cell_type": "code",
      "source": [
        "df_teste.to_excel(\"Desafio_indicium.xls\")"
      ],
      "metadata": {
        "colab": {
          "base_uri": "https://localhost:8080/"
        },
        "id": "Rn_KEAILIN-g",
        "outputId": "1b648703-968e-4e37-b030-5fd7813385fd"
      },
      "execution_count": 403,
      "outputs": [
        {
          "output_type": "stream",
          "name": "stderr",
          "text": [
            "<ipython-input-403-8b47fb7e9e75>:1: FutureWarning: As the xlwt package is no longer maintained, the xlwt engine will be removed in a future version of pandas. This is the only engine in pandas that supports writing in the xls format. Install openpyxl and write to an xlsx file instead. You can set the option io.excel.xls.writer to 'xlwt' to silence this warning. While this option is deprecated and will also raise a warning, it can be globally set and the warning suppressed.\n",
            "  df_teste.to_excel(\"Desafio_indicium.xls\")\n"
          ]
        }
      ]
    }
  ]
}